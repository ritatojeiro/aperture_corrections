{
 "cells": [
  {
   "cell_type": "markdown",
   "metadata": {},
   "source": [
    "# Starting notebook with DESI target catalogue\n",
    "\n",
    "Data model is here: https://desidatamodel.readthedocs.io/en/latest/DESI_TARGET/TARG_DIR/DR/VERSION/TYPE/PHASE/RESOLVE/OBSCON/PHASEtargets-OBSCON-RESOLVE-hp-HP.html\n"
   ]
  },
  {
   "cell_type": "code",
   "execution_count": 1,
   "metadata": {},
   "outputs": [],
   "source": [
    "import fitsio\n",
    "import numpy as np\n",
    "import matplotlib.pyplot as plt\n",
    "import sys, os\n",
    "\n",
    "import seaborn as sns\n",
    "sns.set()\n",
    "\n",
    "#routines to read in target file\n",
    "from desitarget.io import read_targets_in_hp, read_targets_in_box, read_targets_in_cap, check_hp_target_dir\n",
    "\n",
    "#load the bit maks dictionaries\n",
    "from desitarget.targets import desi_mask, bgs_mask, mws_mask\n",
    "from astropy.table import Table\n",
    "\n",
    "def flux_to_mag(flux):\n",
    "    mag = 22.5 - 2.5*np.log10(flux)\n",
    "    return mag\n"
   ]
  },
  {
   "cell_type": "code",
   "execution_count": 31,
   "metadata": {},
   "outputs": [
    {
     "name": "stdout",
     "output_type": "stream",
     "text": [
      "# rows = 123285320\n",
      "# cols = 14\n"
     ]
    }
   ],
   "source": [
    "#directory with target catalogue\n",
    "hpdirname = '/project/projectdirs/desi/target/catalogs/dr8/0.31.1/targets/main/resolve'\n",
    "\n",
    "#use this to check the properties of the hp directory\n",
    "nside, pixdict = check_hp_target_dir(hpdirname)\n",
    "\n",
    "#Load full DR8 target catalogue. Choose only a few columns!\n",
    "columns = ['RA', 'DEC', \"DESI_TARGET\", \"TARGETID\",\"BGS_TARGET\", \n",
    "           \"FLUX_R\", \"MW_TRANSMISSION_R\", \"FIBERFLUX_R\",\n",
    "           \"FLUX_Z\", \"MW_TRANSMISSION_Z\", \"FIBERFLUX_Z\",\n",
    "           \"FLUX_G\", \"MW_TRANSMISSION_G\", \"FIBERFLUX_G\"]\n",
    "mastertargs = read_targets_in_hp(hpdirname=hpdirname, nside=nside, \n",
    "                               pixlist=np.array(list(pixdict.keys())), columns=columns)\n",
    "\n",
    "print('# rows = %i' %(len(mastertargs)))\n",
    "print('# cols = %i' %(len(mastertargs.dtype.names)))"
   ]
  },
  {
   "cell_type": "code",
   "execution_count": 4,
   "metadata": {},
   "outputs": [],
   "source": [
    "#DESI target classes\n",
    "isELG = (mastertargs[\"DESI_TARGET\"] & desi_mask[\"ELG\"]) != 0\n",
    "isQSO = (mastertargs[\"DESI_TARGET\"] & desi_mask[\"QSO\"]) != 0\n",
    "isLRG = (mastertargs[\"DESI_TARGET\"] & desi_mask[\"LRG\"]) != 0\n",
    "isBGS = (mastertargs[\"DESI_TARGET\"] & desi_mask[\"BGS_ANY\"]) != 0"
   ]
  },
  {
   "cell_type": "code",
   "execution_count": 5,
   "metadata": {},
   "outputs": [],
   "source": [
    "#BGS main target classes\n",
    "bgs_bright = (mastertargs[\"BGS_TARGET\"] & bgs_mask[\"BGS_BRIGHT\"]) != 0\n",
    "bgs_faint = (mastertargs[\"BGS_TARGET\"] & bgs_mask[\"BGS_FAINT\"]) != 0\n",
    "bgs_wise = (mastertargs[\"BGS_TARGET\"] & bgs_mask[\"BGS_WISE\"]) != 0"
   ]
  },
  {
   "cell_type": "code",
   "execution_count": 12,
   "metadata": {},
   "outputs": [],
   "source": [
    "# Getting the model magnitudes corrected for extinction\n",
    "rmag = flux_to_mag(mastertargs[isBGS]['FLUX_R']/mastertargs[isBGS]['MW_TRANSMISSION_R'])\n",
    "gmag = flux_to_mag(mastertargs[isBGS]['FLUX_G']/mastertargs[isBGS]['MW_TRANSMISSION_G'])\n",
    "zmag = flux_to_mag(mastertargs[isBGS]['FLUX_Z']/mastertargs[isBGS]['MW_TRANSMISSION_Z'])"
   ]
  },
  {
   "cell_type": "code",
   "execution_count": 13,
   "metadata": {},
   "outputs": [],
   "source": [
    "# Getting the fiber magnitudes corrected for extinction\n",
    "rfib = flux_to_mag(mastertargs[isBGS]['FIBERFLUX_R']/mastertargs[isBGS]['MW_TRANSMISSION_R'])\n",
    "gfib = flux_to_mag(mastertargs[isBGS]['FIBERFLUX_G']/mastertargs[isBGS]['MW_TRANSMISSION_G'])\n",
    "zfib = flux_to_mag(mastertargs[isBGS]['FIBERFLUX_Z']/mastertargs[isBGS]['MW_TRANSMISSION_Z'])"
   ]
  },
  {
   "cell_type": "code",
   "execution_count": 32,
   "metadata": {},
   "outputs": [
    {
     "data": {
      "text/plain": [
       "Text(0,0.5,'N')"
      ]
     },
     "execution_count": 32,
     "metadata": {},
     "output_type": "execute_result"
    },
    {
     "data": {
      "image/png": "[encoded data removed]",
      "text/plain": [
       "<matplotlib.figure.Figure at 0x2aaafb4106a0>"
      ]
     },
     "metadata": {
      "needs_background": "light"
     },
     "output_type": "display_data"
    }
   ],
   "source": [
    "#testing the TS - we should expect a sharp cut-off at r~20 mag.\n",
    "x=plt.hist(rmag, bins=20, range=(15,20))\n",
    "plt.xlabel('r model mag')\n",
    "plt.ylabel('N')"
   ]
  },
  {
   "cell_type": "code",
   "execution_count": null,
   "metadata": {},
   "outputs": [],
   "source": []
  }
 ],
 "metadata": {
  "kernelspec": {
   "display_name": "my DESI 19.10",
   "language": "python",
   "name": "desi-19.10"
  },
  "language_info": {
   "codemirror_mode": {
    "name": "ipython",
    "version": 3
   },
   "file_extension": ".py",
   "mimetype": "text/x-python",
   "name": "python",
   "nbconvert_exporter": "python",
   "pygments_lexer": "ipython3",
   "version": "3.6.6"
  }
 },
 "nbformat": 4,
 "nbformat_minor": 4
}
