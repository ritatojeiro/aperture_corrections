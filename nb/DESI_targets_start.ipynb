{
 "cells": [
  {
   "cell_type": "markdown",
   "metadata": {},
   "source": [
    "# Starting notebook with DESI target catalogue\n",
    "\n",
    "Data model is here: https://desidatamodel.readthedocs.io/en/latest/DESI_TARGET/TARG_DIR/DR/VERSION/TYPE/PHASE/RESOLVE/OBSCON/PHASEtargets-OBSCON-RESOLVE-hp-HP.html\n"
   ]
  },
  {
   "cell_type": "code",
   "execution_count": 1,
   "metadata": {},
   "outputs": [],
   "source": [
    "import fitsio\n",
    "import numpy as np\n",
    "import matplotlib.pyplot as plt\n",
    "import sys, os\n",
    "\n",
    "import seaborn as sns\n",
    "sns.set()\n",
    "\n",
    "#routines to read in target file\n",
    "from desitarget.io import read_targets_in_hp, read_targets_in_box, read_targets_in_cap, check_hp_target_dir\n",
    "\n",
    "#load the bit maks dictionaries\n",
    "from desitarget.targets import desi_mask, bgs_mask, mws_mask\n",
    "from astropy.table import Table\n",
    "\n",
    "def flux_to_mag(flux):\n",
    "    mag = 22.5 - 2.5*np.log10(flux)\n",
    "    return mag\n"
   ]
  },
  {
   "cell_type": "code",
   "execution_count": 6,
   "metadata": {},
   "outputs": [
    {
     "data": {
      "text/plain": [
       "'/global/cfs/cdirs/desi/target/catalogs'"
      ]
     },
     "execution_count": 6,
     "metadata": {},
     "output_type": "execute_result"
    }
   ],
   "source": [
    "import desitarget\n",
    "desitarget.io._get_targ_dir()"
   ]
  },
  {
   "cell_type": "code",
   "execution_count": 8,
   "metadata": {},
   "outputs": [
    {
     "name": "stdout",
     "output_type": "stream",
     "text": [
      "# rows = 65718954\n",
      "# cols = 14\n"
     ]
    }
   ],
   "source": [
    "#directory with target catalogue\n",
    "#hpdirname = '/project/projectdirs/desi/target/catalogs/dr8/0.31.1/targets/main/resolve'\n",
    "hpdirname = '/global/cfs/cdirs/desi/target/catalogs/dr9/0.47.0/targets/main/resolve/bright'\n",
    "\n",
    "#hpdirname=desitarget.io._get_targ_dir()\n",
    "#use this to check the properties of the hp directory\n",
    "nside, pixdict = check_hp_target_dir(hpdirname)\n",
    "\n",
    "#Load full DR8 target catalogue. Choose only a few columns!\n",
    "columns = ['RA', 'DEC', \"DESI_TARGET\", \"TARGETID\",\"BGS_TARGET\", \n",
    "           \"FLUX_R\", \"MW_TRANSMISSION_R\", \"FIBERFLUX_R\",\n",
    "           \"FLUX_Z\", \"MW_TRANSMISSION_Z\", \"FIBERFLUX_Z\",\n",
    "           \"FLUX_G\", \"MW_TRANSMISSION_G\", \"FIBERFLUX_G\"]\n",
    "mastertargs = read_targets_in_hp(hpdirname=hpdirname, nside=nside, \n",
    "                               pixlist=np.array(list(pixdict.keys())), columns=columns)\n",
    "\n",
    "print('# rows = %i' %(len(mastertargs)))\n",
    "print('# cols = %i' %(len(mastertargs.dtype.names)))"
   ]
  },
  {
   "cell_type": "code",
   "execution_count": 9,
   "metadata": {},
   "outputs": [],
   "source": [
    "#DESI target classes\n",
    "isELG = (mastertargs[\"DESI_TARGET\"] & desi_mask[\"ELG\"]) != 0\n",
    "isQSO = (mastertargs[\"DESI_TARGET\"] & desi_mask[\"QSO\"]) != 0\n",
    "isLRG = (mastertargs[\"DESI_TARGET\"] & desi_mask[\"LRG\"]) != 0\n",
    "isBGS = (mastertargs[\"DESI_TARGET\"] & desi_mask[\"BGS_ANY\"]) != 0"
   ]
  },
  {
   "cell_type": "code",
   "execution_count": 10,
   "metadata": {},
   "outputs": [],
   "source": [
    "#BGS main target classes\n",
    "bgs_bright = (mastertargs[\"BGS_TARGET\"] & bgs_mask[\"BGS_BRIGHT\"]) != 0\n",
    "bgs_faint = (mastertargs[\"BGS_TARGET\"] & bgs_mask[\"BGS_FAINT\"]) != 0\n",
    "bgs_wise = (mastertargs[\"BGS_TARGET\"] & bgs_mask[\"BGS_WISE\"]) != 0"
   ]
  },
  {
   "cell_type": "code",
   "execution_count": 11,
   "metadata": {},
   "outputs": [
    {
     "name": "stderr",
     "output_type": "stream",
     "text": [
      "<ipython-input-1-b90e5f1bf907>:17: RuntimeWarning: divide by zero encountered in log10\n",
      "  mag = 22.5 - 2.5*np.log10(flux)\n",
      "<ipython-input-1-b90e5f1bf907>:17: RuntimeWarning: invalid value encountered in log10\n",
      "  mag = 22.5 - 2.5*np.log10(flux)\n"
     ]
    }
   ],
   "source": [
    "# Getting the model magnitudes corrected for extinction\n",
    "rmag = flux_to_mag(mastertargs[isBGS]['FLUX_R']/mastertargs[isBGS]['MW_TRANSMISSION_R'])\n",
    "gmag = flux_to_mag(mastertargs[isBGS]['FLUX_G']/mastertargs[isBGS]['MW_TRANSMISSION_G'])\n",
    "zmag = flux_to_mag(mastertargs[isBGS]['FLUX_Z']/mastertargs[isBGS]['MW_TRANSMISSION_Z'])"
   ]
  },
  {
   "cell_type": "code",
   "execution_count": 12,
   "metadata": {},
   "outputs": [
    {
     "name": "stderr",
     "output_type": "stream",
     "text": [
      "<ipython-input-1-b90e5f1bf907>:17: RuntimeWarning: divide by zero encountered in log10\n",
      "  mag = 22.5 - 2.5*np.log10(flux)\n"
     ]
    }
   ],
   "source": [
    "# Getting the fiber magnitudes corrected for extinction\n",
    "rfib = flux_to_mag(mastertargs[isBGS]['FIBERFLUX_R']/mastertargs[isBGS]['MW_TRANSMISSION_R'])\n",
    "gfib = flux_to_mag(mastertargs[isBGS]['FIBERFLUX_G']/mastertargs[isBGS]['MW_TRANSMISSION_G'])\n",
    "zfib = flux_to_mag(mastertargs[isBGS]['FIBERFLUX_Z']/mastertargs[isBGS]['MW_TRANSMISSION_Z'])"
   ]
  },
  {
   "cell_type": "code",
   "execution_count": 13,
   "metadata": {},
   "outputs": [
    {
     "data": {
      "text/plain": [
       "Text(0, 0.5, 'N')"
      ]
     },
     "execution_count": 13,
     "metadata": {},
     "output_type": "execute_result"
    },
    {
     "data": {
      "image/png": "[encoded data removed]",
      "text/plain": [
       "<Figure size 432x288 with 1 Axes>"
      ]
     },
     "metadata": {},
     "output_type": "display_data"
    }
   ],
   "source": [
    "#testing the TS - we should expect a sharp cut-off at r~20 mag.\n",
    "x=plt.hist(rmag, bins=20, range=(15,20))\n",
    "plt.xlabel('r model mag')\n",
    "plt.ylabel('N')"
   ]
  },
  {
   "cell_type": "code",
   "execution_count": null,
   "metadata": {},
   "outputs": [],
   "source": []
  }
 ],
 "metadata": {
  "kernelspec": {
   "display_name": "DESI 20.8",
   "language": "python",
   "name": "desi-20.8"
  },
  "language_info": {
   "codemirror_mode": {
    "name": "ipython",
    "version": 3
   },
   "file_extension": ".py",
   "mimetype": "text/x-python",
   "name": "python",
   "nbconvert_exporter": "python",
   "pygments_lexer": "ipython3",
   "version": "3.8.3"
  }
 },
 "nbformat": 4,
 "nbformat_minor": 4
}
